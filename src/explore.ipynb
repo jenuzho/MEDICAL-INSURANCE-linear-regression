{
 "cells": [
  {
   "cell_type": "markdown",
   "metadata": {},
   "source": [
    "<br>\n",
    "\n",
    "# 👩🏻‍⚕️ **MEDICAL INSURANCE** 👩🏻‍⚕️"
   ]
  },
  {
   "cell_type": "markdown",
   "metadata": {},
   "source": [
    "**LINEAL REGRESSION PROJECT**"
   ]
  },
  {
   "cell_type": "markdown",
   "metadata": {},
   "source": [
    "## **INDEX**\n",
    "- **STEP 1: PROBLEM DEFINITION AND DATA COLLECTION**\n",
    "- **STEP 2: DATA EXPLORATION AND CLEANING**\n",
    "- **STEP 3: UNIVARIATE VARIABLE ANALYSIS**\n",
    "- **STEP 4: MULTIVARIATE VARIABLE ANALYSIS**\n",
    "- **STEP 5: FEATURE ENGINEERING**\n",
    "- **STEP 6: FEATURE SELECTION**\n",
    "- **STEP 7: MACHINE LEARNING**\n",
    "- **STEP 8: CONCLUSIONS**\n"
   ]
  },
  {
   "cell_type": "markdown",
   "metadata": {},
   "source": [
    "<br>\n",
    "\n",
    "### **STEP 1: PROBLEM DEFINITION AND DATA COLLECTION**\n",
    "\n",
    "- 1.1. Problem Definition\n",
    "- 1.2. Library Importing\n",
    "- 1.3. Data Collection"
   ]
  },
  {
   "cell_type": "markdown",
   "metadata": {},
   "source": [
    "<br>\n",
    "\n",
    "**1.1 PROBLEM DEFINITION**\n",
    "\n",
    "**Customer Profile Analysis:**\n",
    "\n",
    "- Which age groups are more likely to face higher health insurance costs?\n",
    "- Is there a correlation between body mass index (BMI) and insurance premiums?\n",
    "- Does smoking significantly increase insurance costs compared to non-smokers?\n",
    "\n",
    "**Demographic and Health Behavior Analysis:**\n",
    "\n",
    "- Are there gender-based differences in insurance costs?\n",
    "- Does the number of dependents impact insurance costs?\n",
    "- Do people in specific regions tend to have higher average insurance costs?\n",
    "\n",
    "**Behavioral and Lifestyle Factors:**\n",
    "\n",
    "- What is the financial impact of smoking on insurance premiums?\n",
    "- How does body mass index (BMI) influence average insurance costs?\n",
    "\n",
    "**Temporal and Regional Analysis:**\n",
    "\n",
    "- Are there regional variations in insurance costs?\n",
    "- Is there a trend of increasing insurance costs over time due to medical inflation?\n",
    "\n",
    "**Economic Factors and Insurance Costs:**\n",
    "\n",
    "- How do regional average health expenses affect insurance premiums?\n",
    "- Is there a link between economic factors (like medical inflation) and customer preference for comprehensive insurance?\n",
    "\n",
    "**Insurance Premium and Customer Adherence:**\n",
    "\n",
    "- What are the primary factors contributing to higher health insurance costs?\n",
    "- How do age, BMI, smoking status, and number of dependents influence these costs?\n",
    "- How do these costs impact health insurance adherence?\n",
    "- Are customers with higher premiums more likely to discontinue the service?"
   ]
  },
  {
   "cell_type": "markdown",
   "metadata": {},
   "source": [
    "<br>\n",
    "\n",
    "**1.2. LIBRARY IMPORTING**"
   ]
  },
  {
   "cell_type": "code",
   "execution_count": 1,
   "metadata": {},
   "outputs": [
    {
     "ename": "ModuleNotFoundError",
     "evalue": "No module named 'matplotlib'",
     "output_type": "error",
     "traceback": [
      "\u001b[0;31m---------------------------------------------------------------------------\u001b[0m",
      "\u001b[0;31mModuleNotFoundError\u001b[0m                       Traceback (most recent call last)",
      "Cell \u001b[0;32mIn[1], line 3\u001b[0m\n\u001b[1;32m      1\u001b[0m \u001b[38;5;28;01mimport\u001b[39;00m \u001b[38;5;21;01mnumpy\u001b[39;00m \u001b[38;5;28;01mas\u001b[39;00m \u001b[38;5;21;01mnp\u001b[39;00m\n\u001b[1;32m      2\u001b[0m \u001b[38;5;28;01mimport\u001b[39;00m \u001b[38;5;21;01mpandas\u001b[39;00m \u001b[38;5;28;01mas\u001b[39;00m \u001b[38;5;21;01mpd\u001b[39;00m \n\u001b[0;32m----> 3\u001b[0m \u001b[38;5;28;01mimport\u001b[39;00m \u001b[38;5;21;01mmatplotlib\u001b[39;00m\u001b[38;5;21;01m.\u001b[39;00m\u001b[38;5;21;01mpyplot\u001b[39;00m \u001b[38;5;28;01mas\u001b[39;00m \u001b[38;5;21;01mplt\u001b[39;00m\n\u001b[1;32m      4\u001b[0m \u001b[38;5;28;01mimport\u001b[39;00m \u001b[38;5;21;01mseaborn\u001b[39;00m \u001b[38;5;28;01mas\u001b[39;00m \u001b[38;5;21;01msns\u001b[39;00m\n\u001b[1;32m      5\u001b[0m \u001b[38;5;28;01mimport\u001b[39;00m \u001b[38;5;21;01mrandom\u001b[39;00m\n",
      "\u001b[0;31mModuleNotFoundError\u001b[0m: No module named 'matplotlib'"
     ]
    }
   ],
   "source": [
    "import numpy as np\n",
    "import pandas as pd \n",
    "import matplotlib.pyplot as plt\n",
    "import seaborn as sns\n",
    "import random\n",
    "import json\n",
    "import joblib\n",
    "import os\n",
    "from sklearn.model_selection import train_test_split\n",
    "from sklearn.preprocessing import StandardScaler, MinMaxScaler\n",
    "from sklearn.feature_selection import f_classif, SelectKBest\n",
    "from pickle import dump\n",
    "from sklearn.linear_model import LinearRegression\n",
    "from sklearn.metrics import mean_absolute_error, mean_squared_error, r2_score\n",
    "from sklearn.model_selection import GridSearchCV\n",
    "\n",
    "import warnings\n",
    "warnings.filterwarnings(\"ignore\", category=FutureWarning)"
   ]
  }
 ],
 "metadata": {
  "kernelspec": {
   "display_name": "Python 3",
   "language": "python",
   "name": "python3"
  },
  "language_info": {
   "codemirror_mode": {
    "name": "ipython",
    "version": 3
   },
   "file_extension": ".py",
   "mimetype": "text/x-python",
   "name": "python",
   "nbconvert_exporter": "python",
   "pygments_lexer": "ipython3",
   "version": "3.10.12"
  },
  "orig_nbformat": 4
 },
 "nbformat": 4,
 "nbformat_minor": 2
}
